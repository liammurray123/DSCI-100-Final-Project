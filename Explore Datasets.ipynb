{
 "cells": [
  {
   "cell_type": "markdown",
   "id": "cc25ef46",
   "metadata": {},
   "source": [
    "---\n",
    "title: \"Exploring the PLAICRAFT Datasets\"\n",
    "author: \"Liam Murray\"\n",
    "date: \"May 21, 2025\"\n",
    "description: \"Introductory activities and workflows for approaching the PLAICRAFT dataset.\"\n",
    "---\n",
    "\n",
    "<div class=\"alert alert-info\"> Hey! This is a continual work in progress, which means things are bound to be broken! </div>"
   ]
  },
  {
   "cell_type": "markdown",
   "id": "9d2313b7",
   "metadata": {},
   "source": [
    "## Activity #1 - Preliminary\n",
    "\n",
    "**Q: What is the dataset about?**\n",
    "\n",
    "**Q: How many variables are there?**\n",
    "A quick call to the database shows that there are ?? variables contained within the file, as seen in the ```head``` here."
   ]
  },
  {
   "cell_type": "code",
   "execution_count": 1,
   "id": "258f9acd",
   "metadata": {
    "vscode": {
     "languageId": "r"
    }
   },
   "outputs": [
    {
     "name": "stdout",
     "output_type": "stream",
     "text": [
      "[1] \"Q2 Here\"\n"
     ]
    }
   ],
   "source": [
    "print(\"Q2 Here\")"
   ]
  },
  {
   "cell_type": "markdown",
   "id": "6f8fa56f",
   "metadata": {
    "vscode": {
     "languageId": "r"
    }
   },
   "source": [
    "**Q: How many observations are there?**"
   ]
  },
  {
   "cell_type": "code",
   "execution_count": 2,
   "id": "80b0acfe",
   "metadata": {
    "vscode": {
     "languageId": "r"
    }
   },
   "outputs": [
    {
     "name": "stdout",
     "output_type": "stream",
     "text": [
      "[1] \"Q3 Here\"\n"
     ]
    }
   ],
   "source": [
    "print(\"Q3 Here\")"
   ]
  },
  {
   "cell_type": "markdown",
   "id": "77d08050",
   "metadata": {
    "vscode": {
     "languageId": "plaintext"
    }
   },
   "source": [
    "## Activity #2 - Outcome Variable\n",
    "\n",
    "<div class=\"alert alert-warning\"> Tip: Think about how you are organising your workbook: add more code and markdown cells (and arranged them!) to keep your notebook neat</div>\n",
    "\n",
    "**Q:Identify the main outcome/categorical/label variable in the dataset.**\n",
    "\n",
    "**Q:How many values/groups are in this variable?**\n",
    "\n",
    "**Q:How many observations are there in each value/group?**"
   ]
  },
  {
   "cell_type": "markdown",
   "id": "15aa33bb",
   "metadata": {},
   "source": [
    "## Activity #3 - Visualizations\n",
    "\n",
    "<div class=\"alert alert-warning\">Tip: Try using a range of box plots, scatterplots, bar charts, line graphs, etc.</div>\n",
    "\n",
    "**Vizualize: What does the distribution of the variable look like?**\n",
    "\n",
    "**Vizualize: What relationship does it have with some of the other variables?**"
   ]
  },
  {
   "cell_type": "markdown",
   "id": "ab690776",
   "metadata": {},
   "source": []
  }
 ],
 "metadata": {
  "kernelspec": {
   "display_name": "R",
   "language": "R",
   "name": "ir"
  },
  "language_info": {
   "codemirror_mode": "r",
   "file_extension": ".r",
   "mimetype": "text/x-r-source",
   "name": "R",
   "pygments_lexer": "r",
   "version": "4.5.0"
  }
 },
 "nbformat": 4,
 "nbformat_minor": 5
}
